{
  "cells": [
    {
      "cell_type": "markdown",
      "id": "174e376c",
      "metadata": {
        "id": "174e376c"
      },
      "source": [
        "Name:\n",
        "**Zachary Gadjiel Breinard G. Que**\n",
        "\n",
        "Course code and section:  **DATA100 - S17**\n",
        "\n",
        "Student ID: **12135666**\n",
        "\n",
        "College: **CCS**\n",
        "\n",
        "Course: **BS Interactive Entertainment Technology Major in Game Development**\n",
        "\n",
        "References Used:\n",
        "https://pandas.pydata.org/docs/index.html"
      ]
    },
    {
      "cell_type": "markdown",
      "id": "eeccef79",
      "metadata": {},
      "source": [
        "# Zomato Exercise"
      ]
    },
    {
      "cell_type": "markdown",
      "id": "2d84fdf3",
      "metadata": {
        "id": "2d84fdf3"
      },
      "source": [
        "Zomato is a restaurant aggregator website. The platform provides information, menus and user-reviews of restaurants as well as food delivery options from partner restaurants in select cities. You have been provided 3 datasets:\n",
        "\n",
        "- zomato.csv contains restaurant information like average_cost_for_two, cuisines\n",
        "- location.csv contains location of the restaurants like address, city, locality & etc\n",
        "- ratings.csv contains aggregate rating for each restaurant\n",
        "\n",
        "The different files are connected using the `id` columns which can be found in the different files. The id column is a unique identifier to represent a restaurant. You can use this to **merge** the different files."
      ]
    },
    {
      "cell_type": "code",
      "execution_count": 1,
      "id": "5337de5f",
      "metadata": {
        "id": "5337de5f"
      },
      "outputs": [],
      "source": [
        "import pandas as pd\n",
        "import numpy as np"
      ]
    },
    {
      "cell_type": "markdown",
      "id": "77605fbc",
      "metadata": {
        "id": "77605fbc"
      },
      "source": [
        "1. Merge the zomato, location & ratings file into a signle dataframe and store it to the `merged_df` variable **(3pts)**"
      ]
    },
    {
      "cell_type": "code",
      "execution_count": 2,
      "id": "ddbd0bb1",
      "metadata": {
        "id": "ddbd0bb1"
      },
      "outputs": [],
      "source": [
        "merged_df = None\n",
        "\n",
        "# read the files \n",
        "zomato = pd.read_csv('zomato/zomato.csv')\n",
        "location = pd.read_csv('zomato/location.csv')\n",
        "ratings = pd.read_csv('zomato/ratings.csv')\n",
        "\n",
        "# After checking the csvs, common index is id \n",
        "\n",
        "# merge zomato and location \n",
        "zomatoAndLocation = pd.DataFrame.merge(zomato, location, on='id')\n",
        "\n",
        "# merge zomatoAndLocation and ratings\n",
        "merged_df = pd.DataFrame.merge(zomatoAndLocation, ratings, on='id')"
      ]
    },
    {
      "cell_type": "code",
      "execution_count": 3,
      "id": "b2a86a44",
      "metadata": {
        "id": "b2a86a44"
      },
      "outputs": [],
      "source": [
        "assert (6830, 35)==merged_df.shape\n",
        "\n",
        "cols = ['id', 'address', 'city', 'city_id', 'country_id', 'latitude',\n",
        "       'locality', 'locality_verbose', 'longitude', 'zipcode',\n",
        "       'aggregate_rating', 'rating_color', 'rating_text', 'votes',\n",
        "       'average_cost_for_two', 'book_url', 'cuisines', 'currency', 'deeplink',\n",
        "       'events_url', 'featured_image', 'has_online_delivery',\n",
        "       'has_table_booking', 'include_bogo_offers', 'is_book_form_web_view',\n",
        "       'is_delivering_now', 'is_table_reservation_supported',\n",
        "       'is_zomato_book_res', 'menu_url', 'mezzo_provider', 'name',\n",
        "       'photos_url', 'price_range', 'thumb', 'url']\n",
        "\n",
        "assert sorted(merged_df.columns) == sorted(cols)"
      ]
    },
    {
      "cell_type": "markdown",
      "id": "02223abe",
      "metadata": {
        "id": "02223abe"
      },
      "source": [
        "2. Create a function that returns the average aggregate rating for each city. Expected returned value is a Series datatype which contains name of city as index and average aggregate rating as value. **(2pts)**"
      ]
    },
    {
      "cell_type": "code",
      "execution_count": 4,
      "id": "bd7d8f34",
      "metadata": {
        "id": "bd7d8f34"
      },
      "outputs": [
        {
          "name": "stdout",
          "output_type": "stream",
          "text": [
            "<pandas.core.groupby.generic.DataFrameGroupBy object at 0x0000013208604470>\n"
          ]
        }
      ],
      "source": [
        "def exercise_2(merged_df):\n",
        "    \n",
        "    index =  merged_df.groupby('city')\n",
        "    values = index['aggregate_rating'].mean()\n",
        "    \n",
        "    return pd.Series(data=values.values, index=values.index, name=\"average_aggregate_rating\")\n",
        "\n",
        "\n",
        "print(merged_df.groupby('city'))"
      ]
    },
    {
      "cell_type": "code",
      "execution_count": 5,
      "id": "10e5b4c1",
      "metadata": {
        "id": "10e5b4c1"
      },
      "outputs": [],
      "source": [
        "res_series = exercise_2(merged_df)\n",
        "assert True == np.isclose(3.302075, res_series[res_series.index == 'Pasay City'],\n",
        "                          rtol=1e-05, atol=1e-08, equal_nan=False)[0]\n",
        "assert True == np.isclose(1.890741, res_series[res_series.index == 'Valenzuela City'],\n",
        "                          rtol=1e-05, atol=1e-08, equal_nan=False)[0]\n",
        "assert True == np.isclose(1.558333, res_series[res_series.index == 'Malabon City'],\n",
        "                          rtol=1e-05, atol=1e-08, equal_nan=False)[0]"
      ]
    },
    {
      "cell_type": "markdown",
      "id": "5db591ac",
      "metadata": {
        "id": "5db591ac"
      },
      "source": [
        "3. Using the apply function of pandas convert the rating_text to a numeric equivalent. You are to introduce a new column in merged_df called `rating_numeric` which is based on the value from rating_text: **(3pts)**\n",
        "\n",
        "Excellent = 5 <br>\n",
        "Very Good = 4 <br>\n",
        "Good = 3 <br>\n",
        "Average = 2 <br>\n",
        "Poor = 1 <br>\n",
        "Not rated = 0 <br>"
      ]
    },
    {
      "cell_type": "code",
      "execution_count": 6,
      "id": "41293771",
      "metadata": {
        "id": "41293771"
      },
      "outputs": [],
      "source": [
        "def convertRatingTextToNumeric(rating_text):\n",
        "    if rating_text == \"Excellent\":\n",
        "        return 5\n",
        "    elif rating_text == \"Very Good\":\n",
        "        return 4\n",
        "    elif rating_text == \"Good\":\n",
        "        return 3\n",
        "    elif rating_text == \"Average\":\n",
        "        return 2\n",
        "    elif rating_text == \"Poor\":\n",
        "        return 1\n",
        "    elif rating_text == \"Not rated\":\n",
        "        return 0\n",
        "\n",
        "merged_df['rating_numeric'] = merged_df['rating_text'].apply(convertRatingTextToNumeric)"
      ]
    },
    {
      "cell_type": "code",
      "execution_count": 7,
      "id": "c62df922",
      "metadata": {
        "id": "c62df922"
      },
      "outputs": [],
      "source": [
        "assert 868 == merged_df[merged_df.rating_numeric == 0].shape[0]\n",
        "assert True == ('rating_numeric' in merged_df.columns)"
      ]
    },
    {
      "cell_type": "markdown",
      "id": "97ec4197",
      "metadata": {
        "id": "97ec4197"
      },
      "source": [
        "4. Create a function which filters the merged dataframe to only contain rows coming in from a specific city. Expected returned value is a dataframe **(2pts)**"
      ]
    },
    {
      "cell_type": "code",
      "execution_count": 8,
      "id": "9773b18e",
      "metadata": {
        "id": "9773b18e"
      },
      "outputs": [],
      "source": [
        "def exercise_4(merged_df, city):\n",
        "    return merged_df[merged_df['city'] == city]"
      ]
    },
    {
      "cell_type": "code",
      "execution_count": 9,
      "id": "1ca29a81",
      "metadata": {
        "id": "1ca29a81"
      },
      "outputs": [],
      "source": [
        "\n",
        "assert 'Makati City' == exercise_4(merged_df, 'Makati City').city.unique()[0]\n",
        "assert (976, 36) == exercise_4(merged_df, 'Makati City').shape\n",
        "\n",
        "assert 'Mandaluyong City' == exercise_4(merged_df, 'Mandaluyong City').city.unique()[0]\n",
        "assert (443, 36) == exercise_4(merged_df, 'Mandaluyong City').shape\n",
        "\n",
        "assert (0, 36) == exercise_4(merged_df, 'Quezon  City').shape"
      ]
    },
    {
      "cell_type": "markdown",
      "id": "ca7bf3c1",
      "metadata": {
        "id": "ca7bf3c1"
      },
      "source": [
        "5. Create a function to filter the dataframe to only contain certain columns passed in the function. Expected returned value is a dataframe **(1pt)**"
      ]
    },
    {
      "cell_type": "code",
      "execution_count": 10,
      "id": "59787577",
      "metadata": {
        "id": "59787577"
      },
      "outputs": [],
      "source": [
        "def exercise_5(merged_df, cols_to_filter):\n",
        "    return merged_df[cols_to_filter]"
      ]
    },
    {
      "cell_type": "code",
      "execution_count": 11,
      "id": "da27c054",
      "metadata": {
        "id": "da27c054"
      },
      "outputs": [],
      "source": [
        "cols = ['name', 'cuisines', 'city', 'aggregate_rating']\n",
        "assert sorted(cols) == sorted(exercise_5(merged_df, cols).columns)\n",
        "assert (6830, 4) == exercise_5(merged_df, cols).shape\n",
        "\n",
        "cols = ['average_cost_for_two', 'book_url', 'cuisines', 'currency', 'deeplink',\n",
        "       'events_url', 'featured_image', 'has_online_delivery',\n",
        "       'has_table_booking', 'include_bogo_offers', 'is_book_form_web_view']\n",
        "assert sorted(cols) == sorted(exercise_5(merged_df, cols).columns)\n",
        "assert (6830, 11) == exercise_5(merged_df, cols).shape\n"
      ]
    },
    {
      "cell_type": "markdown",
      "id": "d69c7e2e",
      "metadata": {
        "id": "d69c7e2e"
      },
      "source": [
        "6.  What is the most common restaurant name in the dataset? **(2pts)** Write down your answer and show code used to come up with the answer."
      ]
    },
    {
      "cell_type": "code",
      "execution_count": 12,
      "id": "cf9cdab1",
      "metadata": {
        "id": "cf9cdab1"
      },
      "outputs": [
        {
          "name": "stdout",
          "output_type": "stream",
          "text": [
            "The most common restaurant is Starbucks\n",
            "\n",
            "name\n",
            "Starbucks                    99\n",
            "Jollibee                     77\n",
            "McDonald's                   66\n",
            "KFC                          54\n",
            "BonChon Chicken              49\n",
            "                             ..\n",
            "Spatzle Euro Market Cafe      1\n",
            "Corazon                       1\n",
            "Yelo A Taste Of Snow          1\n",
            "Islas Pinas                   1\n",
            "Red Buffalo Wings & Pizza     1\n",
            "Name: count, Length: 3286, dtype: int64\n"
          ]
        }
      ],
      "source": [
        "# Get the name with the highest value\n",
        "mostCommonResto = merged_df['name'].value_counts().idxmax()\n",
        "print(\"The most common restaurant is \" + mostCommonResto + \"\\n\")\n",
        "\n",
        "# Checker\n",
        "commonResto = merged_df['name'].value_counts()\n",
        "print(commonResto)"
      ]
    },
    {
      "cell_type": "markdown",
      "id": "e3a435dd",
      "metadata": {},
      "source": [
        "Answer: The most common restaurant in the dataset is <u><b> Starbucks </b></u>"
      ]
    },
    {
      "cell_type": "markdown",
      "id": "7675b4b1",
      "metadata": {
        "id": "7675b4b1"
      },
      "source": [
        "7. Which restaurant has the most expensive average cost for two? **(2pts)** Write down your answer and show code used to come up with the answer."
      ]
    },
    {
      "cell_type": "code",
      "execution_count": 22,
      "id": "b447b440",
      "metadata": {
        "id": "b447b440"
      },
      "outputs": [
        {
          "name": "stdout",
          "output_type": "stream",
          "text": [
            "The most expensive restaurant for two is The Tasting Room\n",
            "\n",
            "                                           name  average_cost_for_two\n",
            "1713                           The Tasting Room                 10000\n",
            "5      Spiral - Sofitel Philippine Plaza Manila                  6000\n",
            "1728               Medley Buffet - Okada Manila                  5400\n",
            "1750  Wolfgang's Steakhouse by Wolfgang Zwiener                  5100\n",
            "2039  Wolfgang's Steakhouse by Wolfgang Zwiener                  5100\n",
            "...                                         ...                   ...\n",
            "6796                           Katherine's Cafe                     0\n",
            "4714                            The Baking Crew                     0\n",
            "6482                                   Toritake                     0\n",
            "6192                                  Sari Salo                     0\n",
            "6509                                   KapeTayo                     0\n",
            "\n",
            "[6830 rows x 2 columns]\n"
          ]
        }
      ],
      "source": [
        "# Get row with highest average cost for two\n",
        "mostExpensiveResto = merged_df.loc[merged_df['average_cost_for_two'].idxmax()]\n",
        "# print name of that row\n",
        "print(\"The most expensive restaurant for two is \" + mostExpensiveResto['name'] + \"\\n\")\n",
        "\n",
        "# Checker\n",
        "expensiveRestos = merged_df.sort_values(by='average_cost_for_two', ascending=False)\n",
        "print(expensiveRestos[['name', 'average_cost_for_two']])\n"
      ]
    },
    {
      "cell_type": "markdown",
      "id": "c78473da",
      "metadata": {},
      "source": [
        "Answer: The restaurant with the most expensive average cost for two is <u><b> The Tasting Room </b></u>"
      ]
    },
    {
      "cell_type": "markdown",
      "id": "af873fb7",
      "metadata": {
        "id": "af873fb7"
      },
      "source": [
        "8. How many restaurants do not have a zipcode? **(1pt)** Write down your answer and show code used to come up with the answer."
      ]
    },
    {
      "cell_type": "code",
      "execution_count": 44,
      "id": "43f1234a",
      "metadata": {
        "id": "43f1234a"
      },
      "outputs": [
        {
          "name": "stdout",
          "output_type": "stream",
          "text": [
            "Number of restaurants with no zipcode: 6713\n"
          ]
        }
      ],
      "source": [
        "# Get all rows with no zipcode\n",
        "noZipCode = merged_df['zipcode'].isna()\n",
        "# Print the total number of rows with no zipcode\n",
        "print(\"Number of restaurants with no zipcode: \" + str(noZipCode.sum()))\n",
        "\n",
        "# Checker\n",
        "sortZipCode = merged_df.sort_values(by='zipcode', ascending=False)\n",
        "withZipCode = merged_df[merged_df['zipcode'].notna()]\n",
        "countWithZipCode = withZipCode['zipcode'].count()\n",
        "assert merged_df.shape[0] == countWithZipCode + noZipCode.sum()"
      ]
    },
    {
      "cell_type": "markdown",
      "id": "f03b68c5",
      "metadata": {},
      "source": [
        "Answer: There are <u><b> 6713</b></u> restaurants with no zipcode"
      ]
    },
    {
      "cell_type": "markdown",
      "id": "9347ac03",
      "metadata": {
        "id": "9347ac03"
      },
      "source": [
        "9. How many restaurants in the dataset allow online delivery? **(1pt)** Write down your answer and show code used to come up with the answer."
      ]
    },
    {
      "cell_type": "code",
      "execution_count": 51,
      "id": "24b62212",
      "metadata": {
        "id": "24b62212"
      },
      "outputs": [
        {
          "name": "stdout",
          "output_type": "stream",
          "text": [
            "Number of restaurants with online delivery: 0\n",
            "\n",
            "                   name  has_online_delivery\n",
            "0     Mendokoro Ramenba                    0\n",
            "4561                FIC                    0\n",
            "4559          Starbucks                    0\n",
            "4558         McDonald's                    0\n",
            "4557      Pancake House                    0\n",
            "...                 ...                  ...\n",
            "2274      Kowloon House                    0\n",
            "2273        Mang Inasal                    0\n",
            "2272            Janet's                    0\n",
            "2271           Chowking                    0\n",
            "6829          Greenwich                    0\n",
            "\n",
            "[6830 rows x 2 columns]\n"
          ]
        }
      ],
      "source": [
        "# get has_online_delivery column and count how many are 1s\n",
        "hasOnlineDelivery = merged_df['has_online_delivery'].sum()\n",
        "print(\"Number of restaurants with online delivery: \" + str(hasOnlineDelivery) + \"\\n\")\n",
        "\n",
        "# checker\n",
        "withOnlineDelivery = merged_df.sort_values(by='has_online_delivery', ascending=False)\n",
        "print(withOnlineDelivery[['name', 'has_online_delivery']])"
      ]
    },
    {
      "cell_type": "markdown",
      "id": "7f2c7aa3",
      "metadata": {
        "id": "7f2c7aa3"
      },
      "source": [
        "10. Which locatlity has more expensive food? Poblacion or Salcedo Village? **(3pts)** Write down your answer and show code used to come up with the answer."
      ]
    },
    {
      "cell_type": "code",
      "execution_count": 82,
      "id": "8fb7ce16",
      "metadata": {
        "id": "8fb7ce16"
      },
      "outputs": [
        {
          "name": "stdout",
          "output_type": "stream",
          "text": [
            "Poblacion has more expensive food\n",
            "\n",
            "Average cost of restos with locality containing \"Poblacion\": 863.3333333333334\n",
            "Average cost of restos with locality containing \"Salcedo Village\": 803.8686131386861\n"
          ]
        }
      ],
      "source": [
        "# get restos in Poblacion\n",
        "poblaRestos = merged_df[merged_df['locality'].str.contains(\"Poblacion\")] # check for all localities that contain \"Poblacion\" i.e. Century City Mall, Poblacion, Makati City \n",
        "# get average cost of restos in Poblacion\n",
        "poblaAvgCost = poblaRestos['average_cost_for_two'].mean()\n",
        "\n",
        "# get restos in SalcedoVillage\n",
        "salcedoRestos = merged_df[merged_df['locality'].str.contains(\"Salcedo Village\")] # check for all localities that contain \"Salcedo Village\" i.e. Ayala Triangle Gardens, Salcedo Village, Makati City\n",
        "# get average cost of restos in Salcedo Village\n",
        "salcedoAvgCost = salcedoRestos['average_cost_for_two'].mean()\n",
        "\n",
        "if poblaAvgCost > salcedoAvgCost:\n",
        "    print(\"Poblacion has more expensive food\\n\")\n",
        "elif poblaAvgCost < salcedoAvgCost:\n",
        "    print(\"Salcedo Village has more expensive food\\n\")\n",
        "else:\n",
        "    print(\"Poblacion and Salcedo Village\\n\")\n",
        "\n",
        "\n",
        "# Checker\n",
        "print(\"Average cost of restos with locality containing \\\"Poblacion\\\": \" + str(poblaAvgCost))\n",
        "print(\"Average cost of restos with locality containing \\\"Salcedo Village\\\": \" + str(salcedoAvgCost))\n"
      ]
    },
    {
      "cell_type": "markdown",
      "id": "13c17148",
      "metadata": {},
      "source": [
        "Restaurants in <b><u> Salcedo Village </b></u> has more expensive food"
      ]
    }
  ],
  "metadata": {
    "colab": {
      "provenance": []
    },
    "kernelspec": {
      "display_name": "Python 3",
      "language": "python",
      "name": "python3"
    },
    "language_info": {
      "codemirror_mode": {
        "name": "ipython",
        "version": 3
      },
      "file_extension": ".py",
      "mimetype": "text/x-python",
      "name": "python",
      "nbconvert_exporter": "python",
      "pygments_lexer": "ipython3",
      "version": "3.12.3"
    }
  },
  "nbformat": 4,
  "nbformat_minor": 5
}
